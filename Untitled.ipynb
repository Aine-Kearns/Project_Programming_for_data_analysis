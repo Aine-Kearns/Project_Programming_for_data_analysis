{
 "cells": [
  {
   "cell_type": "markdown",
   "metadata": {},
   "source": [
    "### Project - Programming for Data Analysis\n",
    "For this project I have created a data set by simulating a real-world phenomenon (what is that).  This was done by modelling and synthesising the data using Python, using the numpy.random package. <br>\n",
    "The project requirements ask the user to choose a real-world phenomenon that can be measured and with at least one-hundred data points across at least four different variables. Additional requirements include <br>\n",
    "• Investigate the types of variables involved, their likely distributions, and their relationships with each other. <br>\n",
    "• Synthesise/simulate a data set as closely matching their properties as possible. <br>\n",
    "• Detail the research and implement the simulation in a Jupyter notebook - the data set itself can simply be displayed in an output cell within the notebook. <br>"
   ]
  }
 ],
 "metadata": {
  "kernelspec": {
   "display_name": "Python 3",
   "language": "python",
   "name": "python3"
  },
  "language_info": {
   "codemirror_mode": {
    "name": "ipython",
    "version": 3
   },
   "file_extension": ".py",
   "mimetype": "text/x-python",
   "name": "python",
   "nbconvert_exporter": "python",
   "pygments_lexer": "ipython3",
   "version": "3.8.5"
  }
 },
 "nbformat": 4,
 "nbformat_minor": 4
}
